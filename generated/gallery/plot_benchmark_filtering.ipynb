{
  "cells": [
    {
      "cell_type": "code",
      "execution_count": null,
      "metadata": {
        "collapsed": false
      },
      "outputs": [],
      "source": [
        "%matplotlib inline"
      ]
    },
    {
      "cell_type": "markdown",
      "metadata": {},
      "source": [
        "\n# filtering\n\nThis notebook compare the jax implementation of Butterworth filter with [scipy sosfiltfilt](https://docs.scipy.org/doc/scipy/reference/generated/scipy.signal.sosfiltfilt.html).\n\nPerformances of the `'sinc'` mode can be found in the convolve benchmark as it is the function being called underneath.\n\n\u26a0\ufe0f **Warning:** We do not recommend using GPU for filtering as it is much slower for the moment compared to CPU.\n"
      ]
    },
    {
      "cell_type": "code",
      "execution_count": null,
      "metadata": {
        "collapsed": false
      },
      "outputs": [],
      "source": [
        "import os\nimport numpy as np\nimport pynapple as nap\nfrom time import perf_counter\nimport matplotlib.pyplot as plt\n\nimport warnings\nwarnings.filterwarnings(\"ignore\")"
      ]
    },
    {
      "cell_type": "markdown",
      "metadata": {},
      "source": [
        "Machine Configuration\n\n"
      ]
    },
    {
      "cell_type": "code",
      "execution_count": null,
      "metadata": {
        "collapsed": false
      },
      "outputs": [],
      "source": [
        "import jax\nprint(jax.devices())"
      ]
    },
    {
      "cell_type": "code",
      "execution_count": null,
      "metadata": {
        "collapsed": false
      },
      "outputs": [],
      "source": [
        "def get_mean_perf(tsd, mode, n=10):\n    tmp = np.zeros(n)\n    _ = nap.apply_lowpass_filter(tsd, 0.25 * tsd.rate, mode=mode)\n    for i in range(n):\n        t1 = perf_counter()\n        _ = nap.apply_lowpass_filter(tsd, 0.25 * tsd.rate, mode=mode)\n        t2 = perf_counter()\n        tmp[i] = t2 - t1\n    return [np.mean(tmp), np.std(tmp)]"
      ]
    },
    {
      "cell_type": "markdown",
      "metadata": {},
      "source": [
        "# Increasing number of time points\n\n"
      ]
    },
    {
      "cell_type": "code",
      "execution_count": null,
      "metadata": {
        "collapsed": false
      },
      "outputs": [],
      "source": [
        "def benchmark_time_points(mode):\n    times = []\n    for T in np.arange(1000, 100000, 20000):\n        time_array = np.arange(T)/1000\n        data_array = np.random.randn(len(time_array))\n        startend = np.linspace(0, time_array[-1], T//100).reshape(T//200, 2)\n        ep = nap.IntervalSet(start=startend[::2,0], end=startend[::2,1])\n        tsd = nap.Tsd(t=time_array, d=data_array)#, time_support=ep)\n        times.append([T]+get_mean_perf(tsd, mode))\n    return np.array(times)"
      ]
    },
    {
      "cell_type": "markdown",
      "metadata": {},
      "source": [
        "Calling with numba/scipy\n\n"
      ]
    },
    {
      "cell_type": "code",
      "execution_count": null,
      "metadata": {
        "collapsed": false
      },
      "outputs": [],
      "source": [
        "nap.nap_config.set_backend(\"numba\")\ntimes_butter_scipy = benchmark_time_points(mode=\"butter\")"
      ]
    },
    {
      "cell_type": "markdown",
      "metadata": {},
      "source": [
        "Calling with jax\n\n"
      ]
    },
    {
      "cell_type": "code",
      "execution_count": null,
      "metadata": {
        "collapsed": false
      },
      "outputs": [],
      "source": [
        "nap.nap_config.set_backend(\"jax\")\ntimes_butter_jax = benchmark_time_points(mode=\"butter\")"
      ]
    },
    {
      "cell_type": "markdown",
      "metadata": {},
      "source": [
        "Figure\n\n"
      ]
    },
    {
      "cell_type": "code",
      "execution_count": null,
      "metadata": {
        "collapsed": false
      },
      "outputs": [],
      "source": [
        "plt.figure()\nfor arr, label in zip(\n    [times_butter_scipy, times_butter_jax],\n    [\"Butter (scipy)\", \"Butter (jax)\"],\n    ):\n    plt.plot(arr[:, 0], arr[:, 1], \"o-\", label=label)\n    plt.fill_between(arr[:, 0], arr[:, 1] - arr[:, 2], arr[:, 1] + arr[:, 2], alpha=0.2)\n\nplt.legend()\nplt.xlabel(\"Number of time points\")\nplt.ylabel(\"Time (s)\")\nplt.title(\"Butterworth filter low pass\")\n# plt.show()"
      ]
    },
    {
      "cell_type": "markdown",
      "metadata": {},
      "source": [
        "# Increasing number of dimensions\n\n"
      ]
    },
    {
      "cell_type": "code",
      "execution_count": null,
      "metadata": {
        "collapsed": false
      },
      "outputs": [],
      "source": [
        "def benchmark_dimensions(mode):\n    times = []\n    T = 60000\n    for n in np.arange(1, 100, 20):\n        time_array = np.arange(T)/1000\n        data_array = np.random.randn(len(time_array), n)\n        startend = np.linspace(0, time_array[-1], T//100).reshape(T//200, 2)\n        ep = nap.IntervalSet(start=startend[::2,0], end=startend[::2,1])\n        tsd = nap.TsdFrame(t=time_array, d=data_array, time_support=ep)\n        times.append([n]+get_mean_perf(tsd, mode))\n    return np.array(times)"
      ]
    },
    {
      "cell_type": "markdown",
      "metadata": {},
      "source": [
        "Calling with numba/scipy\n\n"
      ]
    },
    {
      "cell_type": "code",
      "execution_count": null,
      "metadata": {
        "collapsed": false
      },
      "outputs": [],
      "source": [
        "nap.nap_config.set_backend(\"numba\")\ndims_butter_scipy = benchmark_dimensions(mode=\"butter\")"
      ]
    },
    {
      "cell_type": "markdown",
      "metadata": {},
      "source": [
        "Calling with jax\n\n"
      ]
    },
    {
      "cell_type": "code",
      "execution_count": null,
      "metadata": {
        "collapsed": false
      },
      "outputs": [],
      "source": [
        "nap.nap_config.set_backend(\"jax\")\ndims_butter_jax = benchmark_dimensions(mode=\"butter\")"
      ]
    },
    {
      "cell_type": "markdown",
      "metadata": {},
      "source": [
        "Figure\n\n"
      ]
    },
    {
      "cell_type": "code",
      "execution_count": null,
      "metadata": {
        "collapsed": false
      },
      "outputs": [],
      "source": [
        "plt.figure()\n\nfor arr, label in zip(\n    [dims_butter_scipy, dims_butter_jax],\n    [\"Butter (scipy)\", \"Butter (jax)\"],\n    ):\n    plt.plot(arr[:, 0], arr[:, 1], \"o-\", label=label)\n    plt.fill_between(arr[:, 0], arr[:, 1] - arr[:, 2], arr[:, 1] + arr[:, 2], alpha=0.2)\n\nplt.legend()\nplt.xlabel(\"Number of dimensions\")\nplt.ylabel(\"Time (s)\")\nplt.title(\"Butterworth filter low pass\")\nplt.show()"
      ]
    }
  ],
  "metadata": {
    "kernelspec": {
      "display_name": "Python 3",
      "language": "python",
      "name": "python3"
    },
    "language_info": {
      "codemirror_mode": {
        "name": "ipython",
        "version": 3
      },
      "file_extension": ".py",
      "mimetype": "text/x-python",
      "name": "python",
      "nbconvert_exporter": "python",
      "pygments_lexer": "ipython3",
      "version": "3.11.9"
    }
  },
  "nbformat": 4,
  "nbformat_minor": 0
}