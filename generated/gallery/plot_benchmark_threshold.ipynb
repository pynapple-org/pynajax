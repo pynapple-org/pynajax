{
  "cells": [
    {
      "cell_type": "code",
      "execution_count": null,
      "metadata": {
        "collapsed": false
      },
      "outputs": [],
      "source": [
        "%matplotlib inline"
      ]
    },
    {
      "cell_type": "markdown",
      "metadata": {},
      "source": [
        "\n# threshold\n"
      ]
    },
    {
      "cell_type": "code",
      "execution_count": null,
      "metadata": {
        "collapsed": false
      },
      "outputs": [],
      "source": [
        "import numpy as np\nimport pynapple as nap\nimport jax.numpy as jnp\nfrom time import perf_counter\nimport matplotlib.pyplot as plt"
      ]
    },
    {
      "cell_type": "markdown",
      "metadata": {},
      "source": [
        "Machine Configuration\n\n"
      ]
    },
    {
      "cell_type": "code",
      "execution_count": null,
      "metadata": {
        "collapsed": false
      },
      "outputs": [],
      "source": [
        "import jax\nprint(jax.devices())"
      ]
    },
    {
      "cell_type": "code",
      "execution_count": null,
      "metadata": {
        "collapsed": false
      },
      "outputs": [],
      "source": [
        "def get_mean_perf_class(obj):\n    n = 10\n    tmp = np.zeros(n)\n    for i in range(n):\n        t1 = perf_counter()\n        out = obj.threshold(0.0)\n        t2 = perf_counter()\n        tmp[i] = t2 - t1\n    return np.mean(tmp), np.std(tmp)\n\ndef benchmark_threshold():\n    times = []\n    for T in np.arange(500000, 1000000, 100000):\n        time_array = np.arange(T) / 2\n        data_array = np.random.randn(len(time_array))\n        starts = np.arange(1, T // 2 - 1, 20)\n        ends = np.arange(1, T // 2 - 1, 20) + 8\n        \n        ep = nap.IntervalSet(start=starts, end=ends)\n        tsd = nap.Tsd(t=time_array, d=data_array, time_support=ep)\n        \n        res = tsd.threshold(0.0) # First call to compile\n        m, s = get_mean_perf_class(tsd)\n        times.append([T, m, s])\n    return np.array(times)"
      ]
    },
    {
      "cell_type": "markdown",
      "metadata": {},
      "source": [
        "Calling with numba\n\n"
      ]
    },
    {
      "cell_type": "code",
      "execution_count": null,
      "metadata": {
        "collapsed": false
      },
      "outputs": [],
      "source": [
        "nap.nap_config.set_backend(\"numba\")\nnum_times = benchmark_threshold()"
      ]
    },
    {
      "cell_type": "markdown",
      "metadata": {},
      "source": [
        "Calling with jax\n\n"
      ]
    },
    {
      "cell_type": "code",
      "execution_count": null,
      "metadata": {
        "collapsed": false
      },
      "outputs": [],
      "source": [
        "nap.nap_config.set_backend(\"jax\")\njax_times = benchmark_threshold()"
      ]
    },
    {
      "cell_type": "markdown",
      "metadata": {},
      "source": [
        "Figure\n\n"
      ]
    },
    {
      "cell_type": "code",
      "execution_count": null,
      "metadata": {
        "collapsed": false
      },
      "outputs": [],
      "source": [
        "plt.figure()\nfor arr, label in zip(\n    [num_times, jax_times],\n    [\"numba backend\", \"pynajax backend\"],\n    ):\n    plt.plot(arr[:, 0], arr[:, 1], \"o-\", label=label)\n    plt.fill_between(arr[:, 0], arr[:, 1] - arr[:, 2], arr[:, 1] + arr[:, 2], alpha=0.2)\nplt.legend()\nplt.xlabel(\"Number of Time points\")\nplt.ylabel(\"Time (s)\")\nplt.title(\"Threshold benchmark\")\nplt.show()"
      ]
    }
  ],
  "metadata": {
    "kernelspec": {
      "display_name": "Python 3",
      "language": "python",
      "name": "python3"
    },
    "language_info": {
      "codemirror_mode": {
        "name": "ipython",
        "version": 3
      },
      "file_extension": ".py",
      "mimetype": "text/x-python",
      "name": "python",
      "nbconvert_exporter": "python",
      "pygments_lexer": "ipython3",
      "version": "3.10.14"
    }
  },
  "nbformat": 4,
  "nbformat_minor": 0
}