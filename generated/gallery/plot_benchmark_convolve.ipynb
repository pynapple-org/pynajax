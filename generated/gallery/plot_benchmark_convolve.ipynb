{
  "cells": [
    {
      "cell_type": "code",
      "execution_count": null,
      "metadata": {
        "collapsed": false
      },
      "outputs": [],
      "source": [
        "%matplotlib inline"
      ]
    },
    {
      "cell_type": "markdown",
      "metadata": {},
      "source": [
        "\n# convolve\n"
      ]
    },
    {
      "cell_type": "code",
      "execution_count": null,
      "metadata": {
        "collapsed": false
      },
      "outputs": [],
      "source": [
        "import numpy as np\nimport pynapple as nap\nimport jax.numpy as jnp\nfrom time import perf_counter\nimport matplotlib.pyplot as plt"
      ]
    },
    {
      "cell_type": "markdown",
      "metadata": {},
      "source": [
        "Machine Configuration\n\n"
      ]
    },
    {
      "cell_type": "code",
      "execution_count": null,
      "metadata": {
        "collapsed": false
      },
      "outputs": [],
      "source": [
        "import jax\nprint(jax.devices())"
      ]
    },
    {
      "cell_type": "code",
      "execution_count": null,
      "metadata": {
        "collapsed": false
      },
      "outputs": [],
      "source": [
        "def get_mean_perf_class(obj, kernel):\n    n = 10\n    tmp = np.zeros(n)\n    for i in range(n):\n        t1 = perf_counter()\n        out = obj.convolve(kernel)\n        t2 = perf_counter()\n        tmp[i] = t2 - t1\n    return np.mean(tmp), np.std(tmp)\n\ndef benchmark_convolve(kernel):\n    times = []\n    for nd in range(10, 500, 50):\n        print(\"Dimensions \", nd)\n        t = np.arange(10000)\n        d = np.random.randn(10000, nd)\n        tsd = nap.TsdFrame(t=t, d=d)        \n        tsd2 = tsd.convolve(kernel) # First call to compile\n        m, s = get_mean_perf_class(tsd, kernel)\n        times.append([nd, m, s])\n    return np.array(times)"
      ]
    },
    {
      "cell_type": "markdown",
      "metadata": {},
      "source": [
        "Calling with jax\n\n"
      ]
    },
    {
      "cell_type": "code",
      "execution_count": null,
      "metadata": {
        "collapsed": false
      },
      "outputs": [],
      "source": [
        "nap.nap_config.set_backend(\"jax\")\njax_times = benchmark_convolve(jnp.ones(11))"
      ]
    },
    {
      "cell_type": "markdown",
      "metadata": {},
      "source": [
        "Calling with numba\n\n"
      ]
    },
    {
      "cell_type": "code",
      "execution_count": null,
      "metadata": {
        "collapsed": false
      },
      "outputs": [],
      "source": [
        "nap.nap_config.set_backend(\"numba\")\nnum_times = benchmark_convolve(np.ones(11))"
      ]
    },
    {
      "cell_type": "markdown",
      "metadata": {},
      "source": [
        "Figure\n\n"
      ]
    },
    {
      "cell_type": "code",
      "execution_count": null,
      "metadata": {
        "collapsed": false
      },
      "outputs": [],
      "source": [
        "plt.figure()\nfor arr, label in zip(\n    [num_times, jax_times],\n    [\"numba backend\", \"pynajax backend\"],\n    ):\n    plt.plot(arr[:, 0], arr[:, 1], \"o-\", label=label)\n    plt.fill_between(arr[:, 0], arr[:, 1] - arr[:, 2], arr[:, 1] + arr[:, 2], alpha=0.2)\nplt.legend()\nplt.xlabel(\"Number of Dimensions\")\nplt.ylabel(\"Time (s)\")\nplt.title(\"Convolve benchmark\")\nplt.savefig(\"../images/convolve_benchmark.png\")\nplt.show()"
      ]
    },
    {
      "cell_type": "markdown",
      "metadata": {},
      "source": [
        "Saving\n\n"
      ]
    }
  ],
  "metadata": {
    "kernelspec": {
      "display_name": "Python 3",
      "language": "python",
      "name": "python3"
    },
    "language_info": {
      "codemirror_mode": {
        "name": "ipython",
        "version": 3
      },
      "file_extension": ".py",
      "mimetype": "text/x-python",
      "name": "python",
      "nbconvert_exporter": "python",
      "pygments_lexer": "ipython3",
      "version": "3.11.9"
    }
  },
  "nbformat": 4,
  "nbformat_minor": 0
}